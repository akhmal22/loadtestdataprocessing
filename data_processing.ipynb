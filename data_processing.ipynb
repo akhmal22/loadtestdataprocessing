{
 "cells": [
  {
   "cell_type": "markdown",
   "id": "serious-helicopter",
   "metadata": {},
   "source": [
    "# Data Processing (daripada ribet pake xcel)"
   ]
  },
  {
   "cell_type": "markdown",
   "id": "trying-criminal",
   "metadata": {},
   "source": [
    "## Import all library needed"
   ]
  },
  {
   "cell_type": "code",
   "execution_count": 1,
   "id": "mental-anderson",
   "metadata": {},
   "outputs": [],
   "source": [
    "import pandas as pd\n",
    "import matplotlib.pyplot as plt\n",
    "import numpy as np"
   ]
  },
  {
   "cell_type": "markdown",
   "id": "premier-filing",
   "metadata": {},
   "source": [
    "## Outlier Removal"
   ]
  },
  {
   "cell_type": "code",
   "execution_count": 2,
   "id": "smoking-thumb",
   "metadata": {},
   "outputs": [],
   "source": [
    "def outlierRemoval(data):\n",
    "    # calculate interquartile range\n",
    "    q25, q75 = np.percentile(data, 25), np.percentile(data, 75)\n",
    "    iqr = q75 - q25\n",
    "    # calculate the outlier cutoff\n",
    "    cut_off = iqr * 1.5\n",
    "    lower, upper = q25 - cut_off, q75 + cut_off\n",
    "    # remove outliers\n",
    "    outliers_removed = [x for x in data if x >= lower and x <= upper]\n",
    "    return outliers_removed"
   ]
  },
  {
   "cell_type": "markdown",
   "id": "australian-mixer",
   "metadata": {},
   "source": [
    "## Load all data to pandas dataframe"
   ]
  },
  {
   "cell_type": "code",
   "execution_count": 3,
   "id": "engaged-settlement",
   "metadata": {},
   "outputs": [],
   "source": [
    "fp_single = 'server15/fpsingle.csv'\n",
    "fp_hundred = 'server15/fphundred.csv'\n",
    "oop_single = 'server15/oopsingle.csv'\n",
    "oop_hundred = 'server15/oophundred.csv'\n",
    "throughput = 'throughput15/throughput.csv'\n",
    "\n",
    "fp_single_data = pd.read_csv(fp_single)\n",
    "fp_hundred_data = pd.read_csv(fp_hundred)\n",
    "oop_single_data = pd.read_csv(oop_single)\n",
    "oop_hundred_data = pd.read_csv(oop_hundred)\n",
    "throughput_data = pd.read_csv(throughput)"
   ]
  },
  {
   "cell_type": "markdown",
   "id": "sustainable-chancellor",
   "metadata": {},
   "source": [
    "## Split server data based on method"
   ]
  },
  {
   "cell_type": "markdown",
   "id": "passing-priority",
   "metadata": {},
   "source": [
    "### fp_single"
   ]
  },
  {
   "cell_type": "code",
   "execution_count": 4,
   "id": "wrapped-karen",
   "metadata": {},
   "outputs": [],
   "source": [
    "fp_single_data_GET = fp_single_data[fp_single_data['Method']=='GET']\n",
    "fp_single_data_POST = fp_single_data[fp_single_data['Method']=='POST']\n",
    "fp_single_data_PUT = fp_single_data[fp_single_data['Method']=='PUT']\n",
    "fp_single_data_DELETE = fp_single_data[fp_single_data['Method']=='DELETE']"
   ]
  },
  {
   "cell_type": "markdown",
   "id": "ahead-dimension",
   "metadata": {},
   "source": [
    "### fp_hundred"
   ]
  },
  {
   "cell_type": "code",
   "execution_count": 5,
   "id": "muslim-chick",
   "metadata": {},
   "outputs": [],
   "source": [
    "fp_hundred_data_GET = fp_hundred_data[fp_hundred_data['Method']=='GET']\n",
    "fp_hundred_data_POST = fp_hundred_data[fp_hundred_data['Method']=='POST']\n",
    "fp_hundred_data_PUT = fp_hundred_data[fp_hundred_data['Method']=='PUT']\n",
    "fp_hundred_data_DELETE = fp_hundred_data[fp_hundred_data['Method']=='DELETE']"
   ]
  },
  {
   "cell_type": "markdown",
   "id": "basic-offense",
   "metadata": {},
   "source": [
    "### oop_single"
   ]
  },
  {
   "cell_type": "code",
   "execution_count": 6,
   "id": "greater-candy",
   "metadata": {},
   "outputs": [],
   "source": [
    "oop_single_data_GET = oop_single_data[oop_single_data['Method']=='GET']\n",
    "oop_single_data_POST = oop_single_data[oop_single_data['Method']=='POST']\n",
    "oop_single_data_PUT = oop_single_data[oop_single_data['Method']=='PUT']\n",
    "oop_single_data_DELETE = oop_single_data[oop_single_data['Method']=='DELETE']"
   ]
  },
  {
   "cell_type": "markdown",
   "id": "reserved-obligation",
   "metadata": {},
   "source": [
    "### oop_hundred"
   ]
  },
  {
   "cell_type": "code",
   "execution_count": 7,
   "id": "activated-crest",
   "metadata": {},
   "outputs": [],
   "source": [
    "oop_hundred_data_GET = oop_hundred_data[oop_hundred_data['Method']=='GET']\n",
    "oop_hundred_data_POST = oop_hundred_data[oop_hundred_data['Method']=='POST']\n",
    "oop_hundred_data_PUT = oop_hundred_data[oop_hundred_data['Method']=='PUT']\n",
    "oop_hundred_data_DELETE = oop_hundred_data[oop_hundred_data['Method']=='DELETE']"
   ]
  },
  {
   "cell_type": "markdown",
   "id": "loving-antarctica",
   "metadata": {},
   "source": [
    "## Count the Mean of every metrix available on Splitted data"
   ]
  },
  {
   "cell_type": "markdown",
   "id": "rural-immunology",
   "metadata": {},
   "source": [
    "### Time"
   ]
  },
  {
   "cell_type": "markdown",
   "id": "abroad-transmission",
   "metadata": {},
   "source": [
    "#### fp_single"
   ]
  },
  {
   "cell_type": "code",
   "execution_count": 8,
   "id": "negative-wilderness",
   "metadata": {},
   "outputs": [
    {
     "data": {
      "text/plain": [
       "438294.03575418994"
      ]
     },
     "execution_count": 8,
     "metadata": {},
     "output_type": "execute_result"
    }
   ],
   "source": [
    "fp_single_data_GET_time_clean = outlierRemoval(fp_single_data_GET['Time'])\n",
    "fp_single_data_POST_time_clean = outlierRemoval(fp_single_data_POST['Time'])\n",
    "fp_single_data_PUT_time_clean = outlierRemoval(fp_single_data_PUT['Time'])\n",
    "fp_single_data_DELETE_time_clean = outlierRemoval(fp_single_data_DELETE['Time'])\n",
    "np.mean(fp_single_data_GET['Time'])"
   ]
  },
  {
   "cell_type": "code",
   "execution_count": 9,
   "id": "suitable-joining",
   "metadata": {},
   "outputs": [
    {
     "data": {
      "text/plain": [
       "443505.4096692112"
      ]
     },
     "execution_count": 9,
     "metadata": {},
     "output_type": "execute_result"
    }
   ],
   "source": [
    "fps_GET_mean_time = np.mean(fp_single_data_GET_time_clean)\n",
    "fps_POST_mean_time = np.mean(fp_single_data_POST_time_clean)\n",
    "fps_PUT_mean_time = np.mean(fp_single_data_PUT_time_clean)\n",
    "fps_DELETE_mean_time = np.mean(fp_single_data_DELETE_time_clean)\n",
    "\n",
    "fp_single_mean_time = (fps_GET_mean_time, fps_POST_mean_time, fps_PUT_mean_time, fps_DELETE_mean_time)\n",
    "np.mean(fp_single_data_GET_time_clean)"
   ]
  },
  {
   "cell_type": "markdown",
   "id": "monetary-nightmare",
   "metadata": {},
   "source": [
    "#### fp_hundred"
   ]
  },
  {
   "cell_type": "code",
   "execution_count": 10,
   "id": "varied-fellow",
   "metadata": {},
   "outputs": [
    {
     "data": {
      "text/plain": [
       "333686.8010941555"
      ]
     },
     "execution_count": 10,
     "metadata": {},
     "output_type": "execute_result"
    }
   ],
   "source": [
    "fp_hundred_data_GET_time_clean = outlierRemoval(fp_hundred_data_GET['Time'])\n",
    "fp_hundred_data_POST_time_clean = outlierRemoval(fp_hundred_data_POST['Time'])\n",
    "fp_hundred_data_PUT_time_clean = outlierRemoval(fp_hundred_data_PUT['Time'])\n",
    "fp_hundred_data_DELETE_time_clean = outlierRemoval(fp_hundred_data_DELETE['Time'])\n",
    "np.mean(fp_hundred_data_GET['Time'])"
   ]
  },
  {
   "cell_type": "code",
   "execution_count": 11,
   "id": "enormous-antique",
   "metadata": {},
   "outputs": [
    {
     "data": {
      "text/plain": [
       "332305.99513038015"
      ]
     },
     "execution_count": 11,
     "metadata": {},
     "output_type": "execute_result"
    }
   ],
   "source": [
    "fph_GET_mean_time = np.mean(fp_hundred_data_GET_time_clean)\n",
    "fph_POST_mean_time = np.mean(fp_hundred_data_POST_time_clean)\n",
    "fph_PUT_mean_time = np.mean(fp_hundred_data_PUT_time_clean)\n",
    "fph_DELETE_mean_time = np.mean(fp_hundred_data_DELETE_time_clean)\n",
    "\n",
    "fp_hundred_mean_time = (fph_GET_mean_time, fph_POST_mean_time, fph_PUT_mean_time, fph_DELETE_mean_time)\n",
    "np.mean(fp_hundred_data_GET_time_clean)"
   ]
  },
  {
   "cell_type": "markdown",
   "id": "norwegian-contractor",
   "metadata": {},
   "source": [
    "#### oop_single"
   ]
  },
  {
   "cell_type": "code",
   "execution_count": 12,
   "id": "lovely-boxing",
   "metadata": {},
   "outputs": [
    {
     "data": {
      "text/plain": [
       "443866.7273743017"
      ]
     },
     "execution_count": 12,
     "metadata": {},
     "output_type": "execute_result"
    }
   ],
   "source": [
    "oop_single_data_GET_time_clean = outlierRemoval(oop_single_data_GET['Time'])\n",
    "oop_single_data_POST_time_clean = outlierRemoval(oop_single_data_POST['Time'])\n",
    "oop_single_data_PUT_time_clean = outlierRemoval(oop_single_data_PUT['Time'])\n",
    "oop_single_data_DELETE_time_clean = outlierRemoval(oop_single_data_DELETE['Time'])\n",
    "np.mean(oop_single_data_GET['Time'])"
   ]
  },
  {
   "cell_type": "code",
   "execution_count": 13,
   "id": "stuck-initial",
   "metadata": {
    "scrolled": true
   },
   "outputs": [
    {
     "data": {
      "text/plain": [
       "443989.3917274939"
      ]
     },
     "execution_count": 13,
     "metadata": {},
     "output_type": "execute_result"
    }
   ],
   "source": [
    "oops_GET_mean_time = np.mean(oop_single_data_GET_time_clean)\n",
    "oops_POST_mean_time = np.mean(oop_single_data_POST_time_clean)\n",
    "oops_PUT_mean_time = np.mean(oop_single_data_PUT_time_clean)\n",
    "oops_DELETE_mean_time = np.mean(oop_single_data_DELETE_time_clean)\n",
    "\n",
    "oop_single_mean_time = (oops_GET_mean_time, oops_POST_mean_time, oops_PUT_mean_time, oops_DELETE_mean_time)\n",
    "np.mean(oop_single_data_GET_time_clean)"
   ]
  },
  {
   "cell_type": "markdown",
   "id": "existing-reward",
   "metadata": {},
   "source": [
    "#### oop_hundred"
   ]
  },
  {
   "cell_type": "code",
   "execution_count": 14,
   "id": "pretty-percentage",
   "metadata": {},
   "outputs": [
    {
     "data": {
      "text/plain": [
       "340362.8837989577"
      ]
     },
     "execution_count": 14,
     "metadata": {},
     "output_type": "execute_result"
    }
   ],
   "source": [
    "oop_hundred_data_GET_time_clean = outlierRemoval(oop_hundred_data_GET['Time'])\n",
    "oop_hundred_data_POST_time_clean = outlierRemoval(oop_hundred_data_POST['Time'])\n",
    "oop_hundred_data_PUT_time_clean = outlierRemoval(oop_hundred_data_PUT['Time'])\n",
    "oop_hundred_data_DELETE_time_clean = outlierRemoval(oop_hundred_data_DELETE['Time'])\n",
    "np.mean(oop_hundred_data_GET['Time'])"
   ]
  },
  {
   "cell_type": "code",
   "execution_count": 15,
   "id": "growing-audit",
   "metadata": {},
   "outputs": [
    {
     "data": {
      "text/plain": [
       "343661.97043276415"
      ]
     },
     "execution_count": 15,
     "metadata": {},
     "output_type": "execute_result"
    }
   ],
   "source": [
    "ooph_GET_mean_time = np.mean(oop_hundred_data_GET_time_clean)\n",
    "ooph_POST_mean_time = np.mean(oop_hundred_data_POST_time_clean)\n",
    "ooph_PUT_mean_time = np.mean(oop_hundred_data_PUT_time_clean)\n",
    "ooph_DELETE_mean_time = np.mean(oop_hundred_data_DELETE_time_clean)\n",
    "\n",
    "oop_hundred_mean_time = (ooph_GET_mean_time, ooph_POST_mean_time, ooph_PUT_mean_time, ooph_DELETE_mean_time)\n",
    "np.mean(oop_hundred_data_GET_time_clean)"
   ]
  },
  {
   "cell_type": "markdown",
   "id": "happy-alexander",
   "metadata": {},
   "source": [
    "### Memory"
   ]
  },
  {
   "cell_type": "markdown",
   "id": "aquatic-chrome",
   "metadata": {},
   "source": [
    "#### fp_single"
   ]
  },
  {
   "cell_type": "code",
   "execution_count": 16,
   "id": "miniature-scheduling",
   "metadata": {},
   "outputs": [
    {
     "data": {
      "text/plain": [
       "1976.9474860335195"
      ]
     },
     "execution_count": 16,
     "metadata": {},
     "output_type": "execute_result"
    }
   ],
   "source": [
    "fp_single_data_GET_memory_clean = outlierRemoval(fp_single_data_GET['Memory'])\n",
    "fp_single_data_POST_memory_clean = outlierRemoval(fp_single_data_POST['Memory'])\n",
    "fp_single_data_PUT_memory_clean = outlierRemoval(fp_single_data_PUT['Memory'])\n",
    "fp_single_data_DELETE_memory_clean = outlierRemoval(fp_single_data_DELETE['Memory'])\n",
    "np.mean(fp_single_data_GET['Memory'])"
   ]
  },
  {
   "cell_type": "code",
   "execution_count": 17,
   "id": "strong-smile",
   "metadata": {},
   "outputs": [
    {
     "data": {
      "text/plain": [
       "4229.085201793722"
      ]
     },
     "execution_count": 17,
     "metadata": {},
     "output_type": "execute_result"
    }
   ],
   "source": [
    "fps_GET_mean_memory = np.mean(fp_single_data_GET_memory_clean)\n",
    "fps_POST_mean_memory = np.mean(fp_single_data_POST_memory_clean)\n",
    "fps_PUT_mean_memory = np.mean(fp_single_data_PUT_memory_clean)\n",
    "fps_DELETE_mean_memory = np.mean(fp_single_data_DELETE_memory_clean)\n",
    "\n",
    "fp_single_mean_memory = (fps_GET_mean_memory, fps_POST_mean_memory, fps_PUT_mean_memory, fps_DELETE_mean_memory)\n",
    "np.mean(fp_single_data_GET_memory_clean)"
   ]
  },
  {
   "cell_type": "markdown",
   "id": "decreased-norman",
   "metadata": {},
   "source": [
    "#### fp_hundred"
   ]
  },
  {
   "cell_type": "code",
   "execution_count": 18,
   "id": "motivated-humidity",
   "metadata": {},
   "outputs": [
    {
     "data": {
      "text/plain": [
       "3177.5328022912377"
      ]
     },
     "execution_count": 18,
     "metadata": {},
     "output_type": "execute_result"
    }
   ],
   "source": [
    "fp_hundred_data_GET_memory_clean = outlierRemoval(fp_hundred_data_GET['Memory'])\n",
    "fp_hundred_data_POST_memory_clean = outlierRemoval(fp_hundred_data_POST['Memory'])\n",
    "fp_hundred_data_PUT_memory_clean = outlierRemoval(fp_hundred_data_PUT['Memory'])\n",
    "fp_hundred_data_DELETE_memory_clean = outlierRemoval(fp_hundred_data_DELETE['Memory'])\n",
    "np.mean(fp_hundred_data_GET['Memory'])"
   ]
  },
  {
   "cell_type": "code",
   "execution_count": 19,
   "id": "useful-allergy",
   "metadata": {},
   "outputs": [
    {
     "data": {
      "text/plain": [
       "3360.0"
      ]
     },
     "execution_count": 19,
     "metadata": {},
     "output_type": "execute_result"
    }
   ],
   "source": [
    "fph_GET_mean_memory = np.mean(fp_hundred_data_GET_memory_clean)\n",
    "fph_POST_mean_memory = np.mean(fp_hundred_data_POST_memory_clean)\n",
    "fph_PUT_mean_memory = np.mean(fp_hundred_data_PUT_memory_clean)\n",
    "fph_DELETE_mean_memory = np.mean(fp_hundred_data_DELETE_memory_clean)\n",
    "\n",
    "fp_hundred_mean_memory = (fph_GET_mean_memory, fph_POST_mean_memory, fph_PUT_mean_memory, fph_DELETE_mean_memory)\n",
    "np.mean(fp_hundred_data_GET_memory_clean)"
   ]
  },
  {
   "cell_type": "markdown",
   "id": "welcome-processor",
   "metadata": {},
   "source": [
    "#### oop_single"
   ]
  },
  {
   "cell_type": "code",
   "execution_count": 20,
   "id": "honey-communist",
   "metadata": {},
   "outputs": [
    {
     "data": {
      "text/plain": [
       "3328.9474860335195"
      ]
     },
     "execution_count": 20,
     "metadata": {},
     "output_type": "execute_result"
    }
   ],
   "source": [
    "oop_single_data_GET_memory_clean = outlierRemoval(oop_single_data_GET['Memory'])\n",
    "oop_single_data_POST_memory_clean = outlierRemoval(oop_single_data_POST['Memory'])\n",
    "oop_single_data_PUT_memory_clean = outlierRemoval(oop_single_data_PUT['Memory'])\n",
    "oop_single_data_DELETE_memory_clean = outlierRemoval(oop_single_data_DELETE['Memory'])\n",
    "np.mean(oop_single_data_GET['Memory'])"
   ]
  },
  {
   "cell_type": "code",
   "execution_count": 21,
   "id": "stainless-fifth",
   "metadata": {},
   "outputs": [
    {
     "data": {
      "text/plain": [
       "4165.24354657688"
      ]
     },
     "execution_count": 21,
     "metadata": {},
     "output_type": "execute_result"
    }
   ],
   "source": [
    "oops_GET_mean_memory = np.mean(oop_single_data_GET_memory_clean)\n",
    "oops_POST_mean_memory = np.mean(oop_single_data_POST_memory_clean)\n",
    "oops_PUT_mean_memory = np.mean(oop_single_data_PUT_memory_clean)\n",
    "oops_DELETE_mean_memory = np.mean(oop_single_data_DELETE_memory_clean)\n",
    "\n",
    "oop_single_mean_memory = (oops_GET_mean_memory, oops_POST_mean_memory, oops_PUT_mean_memory, oops_DELETE_mean_memory)\n",
    "np.mean(oop_single_data_GET_memory_clean)"
   ]
  },
  {
   "cell_type": "markdown",
   "id": "indian-camping",
   "metadata": {},
   "source": [
    "#### oop_hundred"
   ]
  },
  {
   "cell_type": "code",
   "execution_count": 22,
   "id": "exciting-wales",
   "metadata": {},
   "outputs": [
    {
     "data": {
      "text/plain": [
       "3129.598675822578"
      ]
     },
     "execution_count": 22,
     "metadata": {},
     "output_type": "execute_result"
    }
   ],
   "source": [
    "oop_hundred_data_GET_memory_clean = outlierRemoval(oop_hundred_data_GET['Memory'])\n",
    "oop_hundred_data_POST_memory_clean = outlierRemoval(oop_hundred_data_POST['Memory'])\n",
    "oop_hundred_data_PUT_memory_clean = outlierRemoval(oop_hundred_data_PUT['Memory'])\n",
    "oop_hundred_data_DELETE_memory_clean = outlierRemoval(oop_hundred_data_DELETE['Memory'])\n",
    "np.mean(oop_hundred_data_GET['Memory'])"
   ]
  },
  {
   "cell_type": "code",
   "execution_count": 23,
   "id": "israeli-fashion",
   "metadata": {},
   "outputs": [
    {
     "data": {
      "text/plain": [
       "3296.0"
      ]
     },
     "execution_count": 23,
     "metadata": {},
     "output_type": "execute_result"
    }
   ],
   "source": [
    "ooph_GET_mean_memory = np.mean(oop_hundred_data_GET_memory_clean)\n",
    "ooph_POST_mean_memory = np.mean(oop_hundred_data_POST_memory_clean)\n",
    "ooph_PUT_mean_memory = np.mean(oop_hundred_data_PUT_memory_clean)\n",
    "ooph_DELETE_mean_memory = np.mean(oop_hundred_data_DELETE_memory_clean)\n",
    "\n",
    "oop_hundred_mean_memory = (ooph_GET_mean_memory, ooph_POST_mean_memory, ooph_PUT_mean_memory, ooph_DELETE_mean_memory)\n",
    "np.mean(oop_hundred_data_GET_memory_clean)"
   ]
  },
  {
   "cell_type": "markdown",
   "id": "internal-philip",
   "metadata": {},
   "source": [
    "## Visualize Time "
   ]
  },
  {
   "cell_type": "markdown",
   "id": "cooked-documentation",
   "metadata": {},
   "source": [
    "### Declare label of x-axis (used for all plot)"
   ]
  },
  {
   "cell_type": "code",
   "execution_count": 37,
   "id": "designed-producer",
   "metadata": {},
   "outputs": [],
   "source": [
    "paradigms = ('PF', 'PBO')\n",
    "y_pos = np.arange(len(paradigms))\n",
    "methods = ('GET', 'POST', 'PUT', 'DELETE')"
   ]
  },
  {
   "cell_type": "markdown",
   "id": "democratic-lambda",
   "metadata": {},
   "source": [
    "### Single User"
   ]
  },
  {
   "cell_type": "code",
   "execution_count": 38,
   "id": "defined-baptist",
   "metadata": {},
   "outputs": [
    {
     "data": {
      "image/png": "[encoded data removed]",
      "text/plain": [
       "<Figure size 720x720 with 1 Axes>"
      ]
     },
     "metadata": {
      "needs_background": "light"
     },
     "output_type": "display_data"
    }
   ],
   "source": [
    "n_groups = 4\n",
    "fig, ax = plt.subplots()\n",
    "ax.set(ylim=[100000, 490000])\n",
    "fig.set_size_inches(10,10)\n",
    "index = np.arange(0, n_groups * 2, 2)\n",
    "bar_width = 0.35\n",
    "opacity = 0.4\n",
    "error_config = {'ecolor': '0.3'}\n",
    "\n",
    "rects1 = plt.bar(index, fp_single_mean_time[0:4], bar_width,\n",
    "                 alpha=opacity,\n",
    "                 color='b',\n",
    "                 error_kw=error_config,\n",
    "                 label='PF')\n",
    "\n",
    "rects2 = plt.bar(index + bar_width, oop_single_mean_time[0:4], bar_width,\n",
    "                 alpha=opacity,\n",
    "                 color='r',\n",
    "                 error_kw=error_config,\n",
    "                 label='PBO')\n",
    "\n",
    "plt.xlabel('Method')\n",
    "plt.ylabel('nanoseconds')\n",
    "plt.title('Execution Time (Mean)')\n",
    "plt.xticks(index + bar_width, methods, rotation='horizontal')\n",
    "plt.legend()\n",
    "\n",
    "plt.tight_layout()\n",
    "plt.savefig('time_single_user.png')\n",
    "plt.show()"
   ]
  },
  {
   "cell_type": "markdown",
   "id": "secure-plain",
   "metadata": {},
   "source": [
    "### Hundred User"
   ]
  },
  {
   "cell_type": "code",
   "execution_count": 39,
   "id": "second-graduate",
   "metadata": {},
   "outputs": [
    {
     "data": {
      "image/png": "[encoded data removed]",
      "text/plain": [
       "<Figure size 720x720 with 1 Axes>"
      ]
     },
     "metadata": {
      "needs_background": "light"
     },
     "output_type": "display_data"
    }
   ],
   "source": [
    "n_groups = 4\n",
    "fig, ax = plt.subplots()\n",
    "ax.set(ylim=[50000, 350000])\n",
    "fig.set_size_inches(10,10)\n",
    "index = np.arange(0, n_groups * 2, 2)\n",
    "bar_width = 0.35\n",
    "opacity = 0.4\n",
    "error_config = {'ecolor': '0.3'}\n",
    "\n",
    "rects1 = plt.bar(index, fp_hundred_mean_time[0:4], bar_width,\n",
    "                 alpha=opacity,\n",
    "                 color='b',\n",
    "                 error_kw=error_config,\n",
    "                 label='PF')\n",
    "\n",
    "rects2 = plt.bar(index + bar_width, oop_hundred_mean_time[0:4], bar_width,\n",
    "                 alpha=opacity,\n",
    "                 color='r',\n",
    "                 error_kw=error_config,\n",
    "                 label='PBO')\n",
    "\n",
    "plt.xlabel('Method')\n",
    "plt.ylabel('nanoseconds')\n",
    "plt.title('Execution Time (Mean)')\n",
    "plt.xticks(index + bar_width, methods, rotation='horizontal')\n",
    "plt.legend()\n",
    "\n",
    "plt.tight_layout()\n",
    "plt.savefig('time_hundred_user.png')\n",
    "plt.show()"
   ]
  },
  {
   "cell_type": "markdown",
   "id": "descending-bolivia",
   "metadata": {},
   "source": [
    "## Visualize Memory"
   ]
  },
  {
   "cell_type": "markdown",
   "id": "unable-telephone",
   "metadata": {},
   "source": [
    "### Single User"
   ]
  },
  {
   "cell_type": "code",
   "execution_count": 27,
   "id": "guilty-checklist",
   "metadata": {},
   "outputs": [
    {
     "data": {
      "image/png": "[encoded data removed]",
      "text/plain": [
       "<Figure size 720x720 with 1 Axes>"
      ]
     },
     "metadata": {
      "needs_background": "light"
     },
     "output_type": "display_data"
    }
   ],
   "source": [
    "n_groups = 4\n",
    "fig, ax = plt.subplots()\n",
    "fig.set_size_inches(10,10)\n",
    "index = np.arange(0, n_groups * 2, 2)\n",
    "bar_width = 0.35\n",
    "opacity = 0.4\n",
    "error_config = {'ecolor': '0.3'}\n",
    "\n",
    "rects1 = plt.bar(index, fp_single_mean_memory[0:4], bar_width,\n",
    "                 alpha=opacity,\n",
    "                 color='b',\n",
    "                 error_kw=error_config,\n",
    "                 label='PF')\n",
    "\n",
    "rects2 = plt.bar(index + bar_width, oop_single_mean_memory[0:4], bar_width,\n",
    "                 alpha=opacity,\n",
    "                 color='r',\n",
    "                 error_kw=error_config,\n",
    "                 label='PBO')\n",
    "\n",
    "plt.xlabel('Method')\n",
    "plt.ylabel('bytes')\n",
    "plt.title('Memory Usage (Mean)')\n",
    "plt.xticks(index + bar_width, methods, rotation='horizontal')\n",
    "plt.legend()\n",
    "\n",
    "plt.tight_layout()\n",
    "plt.savefig('memory_single_user.png')\n",
    "plt.show()"
   ]
  },
  {
   "cell_type": "markdown",
   "id": "perfect-garlic",
   "metadata": {},
   "source": [
    "### Hundred User"
   ]
  },
  {
   "cell_type": "code",
   "execution_count": 28,
   "id": "honest-model",
   "metadata": {},
   "outputs": [
    {
     "data": {
      "image/png": "[encoded data removed]",
      "text/plain": [
       "<Figure size 720x720 with 1 Axes>"
      ]
     },
     "metadata": {
      "needs_background": "light"
     },
     "output_type": "display_data"
    }
   ],
   "source": [
    "n_groups = 4\n",
    "fig, ax = plt.subplots()\n",
    "fig.set_size_inches(10,10)\n",
    "index = np.arange(0, n_groups * 2, 2)\n",
    "bar_width = 0.35\n",
    "opacity = 0.4\n",
    "error_config = {'ecolor': '0.3'}\n",
    "\n",
    "rects1 = plt.bar(index, fp_hundred_mean_memory[0:4], bar_width,\n",
    "                 alpha=opacity,\n",
    "                 color='b',\n",
    "                 error_kw=error_config,\n",
    "                 label='PF')\n",
    "\n",
    "rects2 = plt.bar(index + bar_width, oop_hundred_mean_memory[0:4], bar_width,\n",
    "                 alpha=opacity,\n",
    "                 color='r',\n",
    "                 error_kw=error_config,\n",
    "                 label='PBO')\n",
    "\n",
    "plt.xlabel('Method')\n",
    "plt.ylabel('bytes')\n",
    "plt.title('Memory Usage (Mean)')\n",
    "plt.xticks(index + bar_width, methods, rotation='horizontal')\n",
    "plt.legend()\n",
    "\n",
    "plt.tight_layout()\n",
    "plt.savefig('memory_hundred_user.png')\n",
    "plt.show()"
   ]
  },
  {
   "cell_type": "markdown",
   "id": "binary-angel",
   "metadata": {},
   "source": [
    "## Visualize Throughput"
   ]
  },
  {
   "cell_type": "markdown",
   "id": "sensitive-examination",
   "metadata": {},
   "source": [
    "### Single"
   ]
  },
  {
   "cell_type": "code",
   "execution_count": 29,
   "id": "level-coach",
   "metadata": {},
   "outputs": [],
   "source": [
    "throughput_single = throughput_data[throughput_data[\"user\"]==\"single\"]\n",
    "\n",
    "throughput_single_fp = throughput_single[throughput_single[\"paradigm\"]==\"fp\"]\n",
    "\n",
    "throughput_single_oop = throughput_single[throughput_single[\"paradigm\"]==\"oop\"]\n",
    "\n",
    "throughput_single_fp = throughput_single_fp['throughput']\n",
    "throughput_single_fp_arr = np.array(throughput_single_fp)\n",
    "\n",
    "throughput_single_oop = throughput_single_oop['throughput']\n",
    "throughput_single_oop_arr = np.array(throughput_single_oop)"
   ]
  },
  {
   "cell_type": "code",
   "execution_count": 30,
   "id": "aggregate-window",
   "metadata": {},
   "outputs": [
    {
     "data": {
      "image/png": "[encoded data removed]",
      "text/plain": [
       "<Figure size 720x720 with 1 Axes>"
      ]
     },
     "metadata": {
      "needs_background": "light"
     },
     "output_type": "display_data"
    }
   ],
   "source": [
    "n_groups = 4\n",
    "fig, ax = plt.subplots()\n",
    "fig.set_size_inches(10,10)\n",
    "ax.set(ylim=[0.5, 1.2])\n",
    "index = np.arange(0, n_groups * 2, 2)\n",
    "bar_width = 0.35\n",
    "opacity = 0.4\n",
    "error_config = {'ecolor': '0.3'}\n",
    "\n",
    "rects1 = plt.bar(index, throughput_single_fp_arr[0:4], bar_width,\n",
    "                 alpha=opacity,\n",
    "                 color='b',\n",
    "                 error_kw=error_config,\n",
    "                 label='PF')\n",
    "\n",
    "rects2 = plt.bar(index + bar_width, throughput_single_oop_arr[0:4], bar_width,\n",
    "                 alpha=opacity,\n",
    "                 color='r',\n",
    "                 error_kw=error_config,\n",
    "                 label='PBO')\n",
    "\n",
    "plt.xlabel('Method')\n",
    "plt.ylabel('requests/s')\n",
    "plt.title('Throughput')\n",
    "plt.xticks(index + bar_width, methods, rotation='vertical')\n",
    "plt.legend()\n",
    "\n",
    "plt.tight_layout()\n",
    "plt.savefig('throughput_single_user.png')\n",
    "plt.show()"
   ]
  },
  {
   "cell_type": "code",
   "execution_count": 31,
   "id": "temporal-convenience",
   "metadata": {},
   "outputs": [
    {
     "data": {
      "text/plain": [
       "array([0.97508751, 0.99556188, 0.99412067, 0.97450501])"
      ]
     },
     "execution_count": 31,
     "metadata": {},
     "output_type": "execute_result"
    }
   ],
   "source": [
    "throughput_single_fp_arr"
   ]
  },
  {
   "cell_type": "code",
   "execution_count": 32,
   "id": "optical-pharmacology",
   "metadata": {},
   "outputs": [
    {
     "data": {
      "text/plain": [
       "array([0.97633406, 0.9954268 , 0.99373164, 0.97555935])"
      ]
     },
     "execution_count": 32,
     "metadata": {},
     "output_type": "execute_result"
    }
   ],
   "source": [
    "throughput_single_oop_arr"
   ]
  },
  {
   "cell_type": "markdown",
   "id": "foreign-hydrogen",
   "metadata": {},
   "source": [
    "### Hundred"
   ]
  },
  {
   "cell_type": "code",
   "execution_count": 33,
   "id": "flush-dollar",
   "metadata": {},
   "outputs": [],
   "source": [
    "throughput_hundred = throughput_data[throughput_data[\"user\"]==\"hundred\"]\n",
    "\n",
    "throughput_hundred_fp = throughput_hundred[throughput_hundred[\"paradigm\"]==\"fp\"]\n",
    "\n",
    "throughput_hundred_oop = throughput_hundred[throughput_hundred[\"paradigm\"]==\"oop\"]\n",
    "\n",
    "throughput_hundred_fp = throughput_hundred_fp['throughput']\n",
    "throughput_hundred_fp_arr = np.array(throughput_hundred_fp)\n",
    "\n",
    "throughput_hundred_oop = throughput_hundred_oop['throughput']\n",
    "throughput_hundred_oop_arr = np.array(throughput_hundred_oop)"
   ]
  },
  {
   "cell_type": "code",
   "execution_count": 34,
   "id": "temporal-fiber",
   "metadata": {},
   "outputs": [
    {
     "data": {
      "image/png": "[encoded data removed]",
      "text/plain": [
       "<Figure size 720x720 with 1 Axes>"
      ]
     },
     "metadata": {
      "needs_background": "light"
     },
     "output_type": "display_data"
    }
   ],
   "source": [
    "n_groups = 4\n",
    "fig, ax = plt.subplots()\n",
    "fig.set_size_inches(10,10)\n",
    "ax.set(ylim=[50, 120])\n",
    "index = np.arange(0, n_groups * 2, 2)\n",
    "bar_width = 0.35\n",
    "opacity = 0.4\n",
    "error_config = {'ecolor': '0.3'}\n",
    "\n",
    "rects1 = plt.bar(index, throughput_hundred_fp_arr[0:4], bar_width,\n",
    "                 alpha=opacity,\n",
    "                 color='b',\n",
    "                 error_kw=error_config,\n",
    "                 label='PF')\n",
    "\n",
    "rects2 = plt.bar(index + bar_width, throughput_hundred_oop_arr[0:4], bar_width,\n",
    "                 alpha=opacity,\n",
    "                 color='r',\n",
    "                 error_kw=error_config,\n",
    "                 label='PBO')\n",
    "\n",
    "plt.xlabel('Method')\n",
    "plt.ylabel('requests/s')\n",
    "plt.title('Throughput')\n",
    "plt.xticks(index + bar_width, methods, rotation='vertical')\n",
    "plt.legend()\n",
    "\n",
    "plt.tight_layout()\n",
    "plt.savefig('throughput_hundred_user.png')\n",
    "plt.show()"
   ]
  },
  {
   "cell_type": "code",
   "execution_count": 35,
   "id": "democratic-american",
   "metadata": {},
   "outputs": [
    {
     "data": {
      "text/plain": [
       "array([91.17032539, 99.37576392, 99.35998967, 91.0527826 ])"
      ]
     },
     "execution_count": 35,
     "metadata": {},
     "output_type": "execute_result"
    }
   ],
   "source": [
    "throughput_hundred_fp_arr"
   ]
  },
  {
   "cell_type": "code",
   "execution_count": 36,
   "id": "familiar-appraisal",
   "metadata": {},
   "outputs": [
    {
     "data": {
      "text/plain": [
       "array([91.36555755, 99.39084076, 99.30686943, 91.01968563])"
      ]
     },
     "execution_count": 36,
     "metadata": {},
     "output_type": "execute_result"
    }
   ],
   "source": [
    "throughput_hundred_oop_arr"
   ]
  },
  {
   "cell_type": "code",
   "execution_count": null,
   "id": "apart-anxiety",
   "metadata": {},
   "outputs": [],
   "source": []
  }
 ],
 "metadata": {
  "kernelspec": {
   "display_name": "Python 3",
   "language": "python",
   "name": "python3"
  },
  "language_info": {
   "codemirror_mode": {
    "name": "ipython",
    "version": 3
   },
   "file_extension": ".py",
   "mimetype": "text/x-python",
   "name": "python",
   "nbconvert_exporter": "python",
   "pygments_lexer": "ipython3",
   "version": "3.9.1"
  }
 },
 "nbformat": 4,
 "nbformat_minor": 5
}
